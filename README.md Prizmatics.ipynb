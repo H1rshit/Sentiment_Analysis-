# Sentiment_Analysis-
Sentiment analysis is performed to know the meaning of a sentence or a review.
It is useful to find the opinion of a particular person about a product or a movie.
Based on the analysis we come to know about how good or bad a movie/product is.

Here Sentiment Analysis is performed on IMDB Movies Dataset.The dataset is already present in keras dataset.
Keras library is used on the top of TensorFlow.
This is a binary classification problem with two output classes
a) Positive Sentiment
b) Negative Sentiment

There are total 50,000 movie reviews and length of each review is different. To deal with this issue we calculate the
average length of each review.
I also find the standard deviation so that we can know how much the length of each review vary from its mean value.
I remove the stop words of English language like (the,is,are,) using NLTK as these words don't add any meaning to the sentiment.
A maximum length of review is set and if a review length is shorter than this length, it is padded to maximum length.
This is done so that dimension of input layer of the model can be fixed.
Using our training dataset, I find the most common words based on the count of each word.
A sequential keras model is used with dense, flatten and embedded layers on training dataset.
Finally, the model is evaluated on test dataset.
